{
 "cells": [
  {
   "cell_type": "markdown",
   "metadata": {},
   "source": [
    "# Module 12 Challenge\n",
    "## Deliverable 1: Scrape Titles and Preview Text from Mars News"
   ]
  },
  {
   "cell_type": "code",
   "execution_count": 1,
   "metadata": {},
   "outputs": [],
   "source": [
    "# Import Splinter and BeautifulSoup\n",
    "from splinter import Browser\n",
    "from bs4 import BeautifulSoup as soup\n",
    "from webdriver_manager.chrome import ChromeDriverManager"
   ]
  },
  {
   "cell_type": "code",
   "execution_count": 2,
   "metadata": {
    "scrolled": true
   },
   "outputs": [
    {
     "name": "stderr",
     "output_type": "stream",
     "text": [
      "\n",
      "\n",
      "====== WebDriver manager ======\n",
      "Current google-chrome version is 108.0.5359\n",
      "Get LATEST chromedriver version for 108.0.5359 google-chrome\n",
      "Driver [C:\\Users\\mehro\\.wdm\\drivers\\chromedriver\\win32\\108.0.5359.71\\chromedriver.exe] found in cache\n"
     ]
    }
   ],
   "source": [
    "executable_path = {'executable_path': ChromeDriverManager().install()}\n",
    "browser = Browser('chrome', **executable_path, headless=False)"
   ]
  },
  {
   "cell_type": "markdown",
   "metadata": {},
   "source": [
    "### Step 1: Visit the Website\n",
    "\n",
    "1. Use automated browsing to visit the [Mars NASA news site](https://redplanetscience.com). Inspect the page to identify which elements to scrape.\n",
    "\n",
    "      > **Hint** To identify which elements to scrape, you might want to inspect the page by using Chrome DevTools."
   ]
  },
  {
   "cell_type": "code",
   "execution_count": 3,
   "metadata": {},
   "outputs": [],
   "source": [
    "# Visit the Mars NASA news site: https://redplanetscience.com\n",
    "url = 'https://redplanetscience.com/'\n",
    "browser.visit(url)\n",
    "html = browser.html\n"
   ]
  },
  {
   "cell_type": "markdown",
   "metadata": {},
   "source": [
    "### Step 2: Scrape the Website\n",
    "\n",
    "Create a Beautiful Soup object and use it to extract text elements from the website."
   ]
  },
  {
   "cell_type": "code",
   "execution_count": 4,
   "metadata": {},
   "outputs": [],
   "source": [
    "# Create a Beautiful Soup object\n",
    "soup = soup(html, 'html.parser')\n"
   ]
  },
  {
   "cell_type": "code",
   "execution_count": 5,
   "metadata": {},
   "outputs": [],
   "source": [
    "# Extract all the text elements\n",
    "result = soup.find('div', id = 'news',class_='container')\n",
    "queries = result.find_all(class_='row')"
   ]
  },
  {
   "cell_type": "markdown",
   "metadata": {},
   "source": [
    "### Step 3: Store the Results\n",
    "\n",
    "Extract the titles and preview text of the news articles that you scraped. Store the scraping results in Python data structures as follows:\n",
    "\n",
    "* Store each title-and-preview pair in a Python dictionary. And, give each dictionary two keys: `title` and `preview`. An example is the following:\n",
    "\n",
    "  ```python\n",
    "  {'title': \"Mars Rover Begins Mission!\", \n",
    "        'preview': \"NASA's Mars Rover begins a multiyear mission to collect data about the little-explored planet.\"}\n",
    "  ```\n",
    "\n",
    "* Store all the dictionaries in a Python list.\n",
    "\n",
    "* Print the list in your notebook."
   ]
  },
  {
   "cell_type": "code",
   "execution_count": 6,
   "metadata": {},
   "outputs": [],
   "source": [
    "# Create an empty list to store the dictionaries\n",
    "titles = []\n",
    "previews = []"
   ]
  },
  {
   "cell_type": "code",
   "execution_count": 11,
   "metadata": {},
   "outputs": [
    {
     "name": "stdout",
     "output_type": "stream",
     "text": [
      "\n",
      "------------\n",
      "\n",
      "NASA's Mars Rover Drivers Need Your Help\n",
      "Using an online tool to label Martian terrain types, you can train an artificial intelligence algorithm that could improve the way engineers guide the Curiosity rover.\n",
      "\n",
      "------------\n",
      "\n",
      "Two Rovers to Roll on Mars Again: Curiosity and Mars 2020\n",
      "They look like twins. But under the hood, the rover currently exploring the Red Planet and the one launching there this summer have distinct science tools and roles to play.\n",
      "\n",
      "------------\n",
      "\n",
      "NASA-JPL Names 'Rolling Stones Rock' on Mars\n",
      "NASA's Mars InSight mission honored one of the biggest bands of all time at Pasadena concert.\n",
      "\n",
      "------------\n",
      "\n",
      "Alabama High School Student Names NASA's Mars Helicopter\n",
      "Vaneeza Rupani's essay was chosen as the name for the small spacecraft, which will mark NASA's first attempt at powered flight on another planet.\n",
      "\n",
      "------------\n",
      "\n",
      "Three New Views of Mars' Moon Phobos\n",
      "Taken with the infrared camera aboard NASA's Odyssey orbiter, they reveal temperature variations on the small moon as it drifts into and out of Mars’ shadow.\n",
      "\n",
      "------------\n",
      "\n",
      "NASA's MAVEN Explores Mars to Understand Radio Interference at Earth\n",
      "NASA’s MAVEN spacecraft has discovered “layers” and “rifts” in the electrically charged part of the upper atmosphere of Mars.\n",
      "\n",
      "------------\n",
      "\n",
      "NASA's MAVEN Observes Martian Night Sky Pulsing in Ultraviolet Light\n",
      "Vast areas of the Martian night sky pulse in ultraviolet light, according to images from NASA’s MAVEN spacecraft. The results are being used to illuminate complex circulation patterns in the Martian atmosphere.\n",
      "\n",
      "------------\n",
      "\n",
      "The MarCO Mission Comes to an End\n",
      "The pair of briefcase-sized satellites made history when they sailed past Mars in 2019.\n",
      "\n",
      "------------\n",
      "\n",
      "NASA's Curiosity Rover Finds an Ancient Oasis on Mars\n",
      "New evidence suggests salty, shallow ponds once dotted a Martian crater — a sign of the planet's drying climate.\n",
      "\n",
      "------------\n",
      "\n",
      "NASA Administrator Statement on Moon to Mars Initiative, FY 2021 Budget\n",
      "Jim Bridenstine addresses NASA's ambitious plans for the coming years, including Mars Sample Return.\n",
      "\n",
      "------------\n",
      "\n",
      "All About the Laser (and Microphone) Atop Mars 2020, NASA's Next Rover\n",
      "SuperCam is a rock-vaporizing instrument that will help scientists hunt for Mars fossils.\n",
      "\n",
      "------------\n",
      "\n",
      "NASA's Curiosity Takes Selfie With 'Mary Anning' on the Red Planet\n",
      "The Mars rover has drilled three samples of rock in this clay-enriched region since arriving in July.\n",
      "\n",
      "------------\n",
      "\n",
      "NASA's Curiosity Mars Rover Takes a New Selfie Before Record Climb\n",
      "Along with capturing an image before its steepest ascent ever, the robotic explorer filmed its \"selfie stick,\" or robotic arm, in action.\n",
      "\n",
      "------------\n",
      "\n",
      "Deadline Closing for Names to Fly on NASA's Next Mars Rover\n",
      "You have until Sept. 30 to send your names to Mars aboard the Mars 2020 rover. \n",
      "\n",
      "------------\n",
      "\n",
      "The Launch Is Approaching for NASA's Next Mars Rover, Perseverance\n",
      "The Red Planet's surface has been visited by eight NASA spacecraft. The ninth will be the first that includes a roundtrip ticket in its flight plan. \n"
     ]
    }
   ],
   "source": [
    "# Loop through the text elements\n",
    "for query in queries:\n",
    "    try:\n",
    "       # Extract the title and preview text from the elements\n",
    "       # Store each title and preview pair in a dictionary\n",
    "       # Add the dictionary to the list \n",
    "        title_search = query.find('div', class_='content_title')\n",
    "        title_text = title_search.text\n",
    "        titles.append(title_text) \n",
    "        preview_search = query.find('div', class_='article_teaser_body')\n",
    "        preview_text = preview_search.text\n",
    "        previews.append(preview_text)\n",
    "        \n",
    "        \n",
    "        print('\\n------------\\n')\n",
    "        print(title_text)\n",
    "        print(preview_text)\n",
    "        \n",
    "    except Exception as E:\n",
    "            print(E)\n",
    "\n"
   ]
  },
  {
   "cell_type": "code",
   "execution_count": 8,
   "metadata": {},
   "outputs": [
    {
     "data": {
      "text/plain": [
       "[{'title': \"Common Questions about InSight's 'Mole'\",\n",
       "  'preview': 'The following Q&As with members of the team answer some of the most common questions about the burrowing device, part of a science instrument called the Heat Flow and Physical Properties Package (HP3).'},\n",
       " {'title': \"NASA's InSight Flexes Its Arm While Its 'Mole' Hits Pause\",\n",
       "  'preview': \"Now that the lander's robotic arm has helped the mole get underground, it will resume science activities that have been on hold.\"},\n",
       " {'title': \"NASA's Perseverance Rover Will Peer Beneath Mars' Surface \",\n",
       "  'preview': \"The agency's newest rover will use the first ground-penetrating radar instrument on the Martian surface to help search for signs of past microbial life. \"},\n",
       " {'title': \"NASA's Mars Rover Drivers Need Your Help\",\n",
       "  'preview': 'Using an online tool to label Martian terrain types, you can train an artificial intelligence algorithm that could improve the way engineers guide the Curiosity rover.'},\n",
       " {'title': 'NASA Invites Public to Share Excitement of Mars 2020 Perseverance Rover Launch',\n",
       "  'preview': 'There are lots of ways to participate in the historic event, which is targeted for July 30.'},\n",
       " {'title': \"NASA's Mars 2020 Rover Completes Its First Drive\",\n",
       "  'preview': 'In a 10-plus-hour marathon, the rover steered, turned and drove in 3-foot (1-meter) increments over small ramps.'},\n",
       " {'title': 'Two of a Space Kind: Apollo 12 and Mars 2020',\n",
       "  'preview': 'Apollo 12 and the upcoming Mars 2020 mission may be separated by half a century, but they share several goals unique in the annals of space exploration.'},\n",
       " {'title': \"3 Things We've Learned From NASA's Mars InSight \",\n",
       "  'preview': 'Scientists are finding new mysteries since the geophysics mission landed two years ago.'},\n",
       " {'title': 'Global Storms on Mars Launch Dust Towers Into the Sky',\n",
       "  'preview': 'A Mars Dust Tower Stands Out Dust storms are common on Mars. But every decade or so, something unpredictable happens: a series of runaway storms break out, covering the entire planet in a dusty haze.'},\n",
       " {'title': 'NASA Administrator Statement on Moon to Mars Initiative, FY 2021 Budget',\n",
       "  'preview': \"Jim Bridenstine addresses NASA's ambitious plans for the coming years, including Mars Sample Return.\"},\n",
       " {'title': \"NASA's Perseverance Rover Will Carry First Spacesuit Materials to Mars\",\n",
       "  'preview': 'In a Q&A, spacesuit designer Amy Ross explains how five samples, including a piece of helmet visor, will be tested aboard the rover, which is targeting a July 30 launch. '},\n",
       " {'title': \"NASA's Mars 2020 Rover Closer to Getting Its Name\",\n",
       "  'preview': \"155 students from across the U.S. have been chosen as semifinalists in NASA's essay contest to name the Mars 2020 rover, and see it launch from Cape Canaveral this July.\"},\n",
       " {'title': \"NASA's Mars Helicopter Attached to Mars 2020 Rover \",\n",
       "  'preview': 'The helicopter will be first aircraft to perform flight tests on another planet.'},\n",
       " {'title': \"InSight's 'Mole' Team Peers into the Pit\",\n",
       "  'preview': 'Efforts to save the heat probe continue.'},\n",
       " {'title': \"Q&A with the Student Who Named Ingenuity, NASA's Mars Helicopter\",\n",
       "  'preview': 'As a longtime fan of space exploration, Vaneeza Rupani appreciates the creativity and collaboration involved with trying to fly on another planet.'}]"
      ]
     },
     "execution_count": 8,
     "metadata": {},
     "output_type": "execute_result"
    }
   ],
   "source": [
    "# Print the list to confirm success\n"
   ]
  },
  {
   "cell_type": "code",
   "execution_count": 9,
   "metadata": {},
   "outputs": [],
   "source": [
    "browser.quit()"
   ]
  },
  {
   "cell_type": "markdown",
   "metadata": {},
   "source": [
    "### (Optional) Step 4: Export the Data\n",
    "\n",
    "Optionally, store the scraped data in a file or database (to ease sharing the data with others). To do so, export the scraped data to either a JSON file or a MongoDB database."
   ]
  },
  {
   "cell_type": "code",
   "execution_count": 10,
   "metadata": {},
   "outputs": [],
   "source": [
    "# Export data to JSON\n"
   ]
  },
  {
   "cell_type": "code",
   "execution_count": null,
   "metadata": {},
   "outputs": [],
   "source": [
    "# Export data to MongoDB\n"
   ]
  }
 ],
 "metadata": {
  "kernelspec": {
   "display_name": "PythonData2",
   "language": "python",
   "name": "pythondata2"
  },
  "language_info": {
   "codemirror_mode": {
    "name": "ipython",
    "version": 3
   },
   "file_extension": ".py",
   "mimetype": "text/x-python",
   "name": "python",
   "nbconvert_exporter": "python",
   "pygments_lexer": "ipython3",
   "version": "3.7.13"
  }
 },
 "nbformat": 4,
 "nbformat_minor": 4
}
